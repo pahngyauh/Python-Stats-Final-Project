{
  "metadata": {
    "kernelspec": {
      "name": "python",
      "display_name": "Python (Pyodide)",
      "language": "python"
    },
    "language_info": {
      "codemirror_mode": {
        "name": "python",
        "version": 3
      },
      "file_extension": ".py",
      "mimetype": "text/x-python",
      "name": "python",
      "nbconvert_exporter": "python",
      "pygments_lexer": "ipython3",
      "version": "3.8"
    }
  },
  "nbformat_minor": 4,
  "nbformat": 4,
  "cells": [
    {
      "cell_type": "markdown",
      "source": "<p style=\"text-align:center\">\n    <a href=\"https://skills.network/?utm_medium=Exinfluencer&utm_source=Exinfluencer&utm_content=000026UJ&utm_term=10006555&utm_id=NA-SkillsNetwork-Channel-SkillsNetworkCoursesIBMDeveloperSkillsNetworkST0151ENSkillsNetwork20531532-2022-01-01\" target=\"_blank\">\n    <img src=\"https://cf-courses-data.s3.us.cloud-object-storage.appdomain.cloud/assets/logos/SN_web_lightmode.png\" width=\"200\" alt=\"Skills Network Logo\"  />\n    </a>\n</p>\n\n",
      "metadata": {}
    },
    {
      "cell_type": "markdown",
      "source": "#### Import the required libraries we need for the lab.\n",
      "metadata": {}
    },
    {
      "cell_type": "code",
      "source": "import piplite\nawait piplite.install(['numpy'],['pandas'])\nawait piplite.install(['seaborn'])",
      "metadata": {
        "trusted": true
      },
      "outputs": [],
      "execution_count": null
    },
    {
      "cell_type": "code",
      "source": "import pandas as pd\nimport pandas as pd\nimport seaborn as sns\nimport matplotlib.pyplot as pyplot\nimport scipy.stats\nimport statsmodels.api as sm\nfrom statsmodels.formula.api import ols",
      "metadata": {
        "trusted": true
      },
      "outputs": [],
      "execution_count": null
    },
    {
      "cell_type": "markdown",
      "source": "#### Read the dataset in the csv file from the URL\n",
      "metadata": {}
    },
    {
      "cell_type": "code",
      "source": "from js import fetch\nimport io\n\nURL = 'https://cf-courses-data.s3.us.cloud-object-storage.appdomain.cloud/IBMDeveloperSkillsNetwork-ST0151EN-SkillsNetwork/labs/boston_housing.csv'\nresp = await fetch(URL)\nboston_url = io.BytesIO((await resp.arrayBuffer()).to_py())",
      "metadata": {
        "trusted": true
      },
      "outputs": [],
      "execution_count": null
    },
    {
      "cell_type": "code",
      "source": "boston_df=pd.read_csv(boston_url)",
      "metadata": {
        "trusted": true
      },
      "outputs": [],
      "execution_count": null
    },
    {
      "cell_type": "markdown",
      "source": "#### Add your code below following the instructions given in the course to complete the peer graded assignment\n",
      "metadata": {}
    },
    {
      "cell_type": "code",
      "source": "boston_df.describe()",
      "metadata": {
        "trusted": true
      },
      "outputs": [],
      "execution_count": null
    },
    {
      "cell_type": "code",
      "source": "ax = sns.boxplot(y='MEDV', data=boston_df)\n\nax.set_title(\"Median Value of Homes in $1,000\")\n\nmedian = boston_df['MEDV'].median()\nfirst_quartile = boston_df['MEDV'].quantile(0.25)\nthird_quartile = boston_df['MEDV'].quantile(0.75)\n\nax.text(x=0.05, y=first_quartile, s=\"25%\", verticalalignment='center', horizontalalignment='right', color='blue')\nax.text(x=0.05, y=median, s=\"50%\", verticalalignment='center', horizontalalignment='right', color='blue')\nax.text(x=0.05, y=third_quartile, s=\"75%\", verticalalignment='center', horizontalalignment='right', color='blue')",
      "metadata": {
        "trusted": true
      },
      "outputs": [],
      "execution_count": null
    },
    {
      "cell_type": "code",
      "source": "ax2 = sns.countplot(x='CHAS', data=boston_df)\n\nax2.set_title(\"Number of Homes Along the Charles River\")\nax2.set_xlabel(\"Charles River Proximity\")\nax2.set_ylabel(\"Number of Homes\")\nax2.set_xticklabels(['Not Along River', 'Along River'])",
      "metadata": {
        "trusted": true
      },
      "outputs": [],
      "execution_count": null
    },
    {
      "cell_type": "code",
      "source": "boston_df['age_group'] = pd.cut(boston_df['AGE'], \n                                bins=[0, 35, 70, 100], \n                                labels=['35% or less', 'Between 35% and 70%', '70% or more'],\n                                include_lowest=True)\n\nax3 = sns.boxplot(x=\"MEDV\", hue=\"age_group\", data=boston_df, legend = False)\n\nax3.set_title(\"Median Value of Homes by Older Home Proportion Group\")\nax3.set_xlabel(\"Median Value of Homes in $1,000s\")\nax3.set_ylabel(\"Age Group\")",
      "metadata": {
        "trusted": true
      },
      "outputs": [],
      "execution_count": null
    },
    {
      "cell_type": "markdown",
      "source": "**Conclusion** we can see older cohorts have Lower value homes, EXCEPTING OUTLIERS",
      "metadata": {}
    },
    {
      "cell_type": "code",
      "source": "ax4 = sns.scatterplot(x = \"INDUS\", y = \"NOX\", data = boston_df)\nax4.set_xlabel(\"Proportion of non-retail business acres per town.\")\nax4.set_ylabel(\"Nitric Oxide Concentration (PPM)\")\npyplot.show()",
      "metadata": {
        "trusted": true
      },
      "outputs": [],
      "execution_count": null
    },
    {
      "cell_type": "markdown",
      "source": "**Conclusion** we can industrial real estate is more prevalent in areas with higher concentration of NOX",
      "metadata": {}
    },
    {
      "cell_type": "code",
      "source": "ax5 = sns.histplot(data=boston_df, x=\"PTRATIO\", bins=10, kde=True, color='green')\nax5.set_xlabel(\"Pupil-Teacher Ratio\")\nax5.set_ylabel(\"# Homes\")",
      "metadata": {
        "trusted": true
      },
      "outputs": [],
      "execution_count": null
    },
    {
      "cell_type": "markdown",
      "source": "**Conclusion** We can see the vast majority of homes have a teacher:pupil ratio of 18+, with 20 being the mode",
      "metadata": {}
    },
    {
      "cell_type": "markdown",
      "source": "**Question 1:** Is there a significant difference in median value of houses bounded by the Charles river or not?",
      "metadata": {}
    },
    {
      "cell_type": "code",
      "source": "##Approach to Answer: T-Test for Independent Samples\n\n##H0: Null Hypothesis: There is no significant difference in the median value of houses bound by the Charles River\n##Ha: Alternative Hypothesis: There is a significant difference in the median value\n\n##Independent Variable: Bound by Charles River; two Groups: Bound by River and Not Bound by River\n##Dependent & Continuous Variable: Median Home Value in $1000\n\n##Run the T-Test\nscipy.stats.ttest_ind(boston_df[boston_df['CHAS'] == 1]['MEDV'],\n                   boston_df[boston_df['CHAS'] == 0]['MEDV'], equal_var = True)",
      "metadata": {
        "trusted": true
      },
      "outputs": [],
      "execution_count": null
    },
    {
      "cell_type": "markdown",
      "source": "**Conclusion** Since the P-Value at 7.39e-05 is less than .05, we reject the null hypothesis that the there is no diference between mean median value of homes bound by the charles river vs. those not bound",
      "metadata": {}
    },
    {
      "cell_type": "markdown",
      "source": "**Question 2:** Is there a difference in Median values of houses (MEDV) for each proportion of owner occupied units built prior to 1940 (AGE)?",
      "metadata": {}
    },
    {
      "cell_type": "code",
      "source": "##Approach to Answer: ANOVA\n\n##H0: Null Hypothesis: There is no significant difference in the median values of homes across three home age cohorts\n##Ha: Alternative Hypothesis: There is a significant difference in the median values by at least one cohort\n\n##Groups: 35 % or less , Between 35% and 70%, 70% \n##Dependent & Continuous Variable: Median Home Value in $1000\n\n##Group data into three age categories\n\nthirtyfive_lower = boston_df[boston_df['AGE'] <= 35]['MEDV']\nthirtyfive_seventy = boston_df[(boston_df['AGE'] > 35) & (boston_df['AGE'] <= 70)]['MEDV']\nseventy_more = boston_df[boston_df['AGE'] > 70]['MEDV']\n\n##Run the ANOVA\nf_statistic, p_value = scipy.stats.f_oneway(thirtyfive_lower, thirtyfive_seventy, seventy_more)\nprint(\"F_Statistic: {0}, P-Value: {1}\".format(f_statistic,p_value))",
      "metadata": {
        "trusted": true
      },
      "outputs": [],
      "execution_count": null
    },
    {
      "cell_type": "markdown",
      "source": "**Conclusion** because the P-Value is lower than .05, we reject the null hypothesis. Age does play a significant role in median home value.",
      "metadata": {}
    },
    {
      "cell_type": "markdown",
      "source": "**Question 3:** Can we conclude that there is no relationship between Nitric oxide concentrations and proportion of non-retail business acres per town? ",
      "metadata": {}
    },
    {
      "cell_type": "code",
      "source": "##Approach to Answer: Pearson Correlation\n\n##H0: Null Hypothesis: There is no significant correlation between Nitric Oxide Concentration and Proportion of Non-Retail Business Acre per Town\n##Ha: Alternative Hypothesis: There is correlation between NOX levels and Industrialized acreage\n\n##Run the Pearson Test\nax6 = sns.scatterplot(x=\"NOX\", y=\"INDUS\", data=boston_df)\nax6.set_xlabel(\"Nitric Oxide Concentration Levels\")\nax6.set_ylabel(\"% Industrial Acreage\")\nscipy.stats.pearsonr(boston_df['NOX'], boston_df['INDUS'])",
      "metadata": {
        "trusted": true
      },
      "outputs": [],
      "execution_count": null
    },
    {
      "cell_type": "markdown",
      "source": "**Conclusion** because the P-Value is lower than .05, there is correlation between Nitric Oxide Levels and Industrial Acreage",
      "metadata": {}
    },
    {
      "cell_type": "markdown",
      "source": "**Question 4:** What is the impact of an additional weighted distance to the five Boston employment centres on the median value of owner occupied homes?",
      "metadata": {}
    },
    {
      "cell_type": "code",
      "source": "##Approach to Answer: Regression Analysis\n\n##H0: Null Hypothesis: There is no significant correlation between weighted distance to the five Boston employment Centers and median home value.\n##Ha: Alternative Hypothesis: There is correlation between Work distance and median home value.\n\n##Run the Regression Test\n## X is the input variables (or independent variables)\nX2 = boston_df['DIS']\n## y is the target/dependent variable\ny2 = boston_df['MEDV']\n## add an intercept (beta_0) to our model\nX2 = sm.add_constant(X2) \n\nmodel = sm.OLS(y2, X2).fit()\npredictions = model.predict(X2)\n\n# Print out the statistics\nmodel.summary()",
      "metadata": {
        "trusted": true
      },
      "outputs": [],
      "execution_count": null
    },
    {
      "cell_type": "code",
      "source": "**Conclusion:** because the P-Value is lower than .05, we can determine that there is correlation between distance to the five boston centers and the median home value.",
      "metadata": {
        "trusted": true
      },
      "outputs": [],
      "execution_count": null
    },
    {
      "cell_type": "code",
      "source": "",
      "metadata": {
        "trusted": true
      },
      "outputs": [],
      "execution_count": null
    }
  ]
}